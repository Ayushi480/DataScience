{
 "cells": [
  {
   "cell_type": "markdown",
   "id": "e08ffe90",
   "metadata": {},
   "source": [
    "# 2.Data Science Tools and EcoSystem"
   ]
  },
  {
   "cell_type": "markdown",
   "id": "5fced18c",
   "metadata": {},
   "source": [
    "### 3.DataScience Introduction\n",
    "\n",
    "Data Science is a combination of multiple disciplines that uses statistics, data analysis, and machine learning to analyze data and to extract knowledge and insights from it.\n",
    "\n",
    "A Data Scientist requires expertise in several backgrounds:\n",
    "\n",
    "Machine Learning <br>\n",
    "Statistics  <br>\n",
    "Programming (Python or R) <br>\n",
    "Mathematics <br>\n",
    "Databases <br>\n",
    "A Data Scientist must find patterns within the data. Before he/she can find the patterns, he/she must organize the data in a standard format."
   ]
  },
  {
   "cell_type": "markdown",
   "id": "b4df7afc",
   "metadata": {},
   "source": [
    "#### 4.List of Data Science Languages\n",
    "\n",
    "1) Python <br>\n",
    "2) SQL <br>\n",
    "3) R <br>\n",
    "4) Java <br>\n",
    "5) C++ <br>\n",
    "6) Scala <br>\n",
    "7) MATLAB <br>"
   ]
  },
  {
   "cell_type": "markdown",
   "id": "735ed051",
   "metadata": {},
   "source": [
    "#### 5.Data Science Libraries\n",
    "\n",
    "1) Numpy <br>\n",
    "2) Pandas <br>\n",
    "3) Matplotlib <br>\n",
    "4) Plotly <br>\n",
    "5) Scikit-learn <br>\n",
    "6) Scipy <br>\n",
    "7) Tensorflow <br>\n",
    "8) Pytorch <br>\n",
    "9) NLTK <br>\n",
    "10) Keras <br>"
   ]
  },
  {
   "cell_type": "markdown",
   "id": "736a6830",
   "metadata": {},
   "source": [
    "#### 6.Data Science Tools\n",
    "|Data Science Tools|\n",
    "|------------------|\n",
    "|Excel|\n",
    "|Tableau|\n",
    "|PowerBi|\n",
    "|Spark|\n",
    "|Hadoop|\n",
    "|Jupyter Notebook|\n",
    "|IBM Watson|\n",
    "|SAS|"
   ]
  },
  {
   "cell_type": "markdown",
   "id": "aaf9c36a",
   "metadata": {},
   "source": [
    "#### 7.Artihmetic Expression Examples"
   ]
  },
  {
   "cell_type": "code",
   "execution_count": 2,
   "id": "4ededafd",
   "metadata": {},
   "outputs": [
    {
     "data": {
      "text/plain": [
       "12"
      ]
     },
     "execution_count": 2,
     "metadata": {},
     "output_type": "execute_result"
    }
   ],
   "source": [
    "# multiply two numbers \n",
    "3*4"
   ]
  },
  {
   "cell_type": "code",
   "execution_count": 6,
   "id": "9fdfd04d",
   "metadata": {},
   "outputs": [
    {
     "data": {
      "text/plain": [
       "7"
      ]
     },
     "execution_count": 6,
     "metadata": {},
     "output_type": "execute_result"
    }
   ],
   "source": [
    "# add two numbers\n",
    "3+4"
   ]
  },
  {
   "cell_type": "code",
   "execution_count": 7,
   "id": "f60a80c7",
   "metadata": {},
   "outputs": [
    {
     "data": {
      "text/plain": [
       "50.0"
      ]
     },
     "execution_count": 7,
     "metadata": {},
     "output_type": "execute_result"
    }
   ],
   "source": [
    "# convert minutes to hours\n",
    "300/6"
   ]
  },
  {
   "cell_type": "markdown",
   "id": "5d769188",
   "metadata": {},
   "source": [
    "#### Objective\n",
    "    1) How to use Jupyter Notebook.\n",
    "    2) How to create a markdown cells.\n",
    "    3) How to specify comments in the cells.\n",
    "    4) List of popular languages for Data Science.\n",
    "    5) List of tools available for Data Science.\n",
    "    6) List of libraries availabe for data scientist."
   ]
  },
  {
   "cell_type": "markdown",
   "id": "aa59053b",
   "metadata": {},
   "source": [
    "#### Author\n",
    "Ayushi Mishra"
   ]
  },
  {
   "cell_type": "code",
   "execution_count": null,
   "id": "c74c86df",
   "metadata": {},
   "outputs": [],
   "source": []
  }
 ],
 "metadata": {
  "kernelspec": {
   "display_name": "Python 3 (ipykernel)",
   "language": "python",
   "name": "python3"
  },
  "language_info": {
   "codemirror_mode": {
    "name": "ipython",
    "version": 3
   },
   "file_extension": ".py",
   "mimetype": "text/x-python",
   "name": "python",
   "nbconvert_exporter": "python",
   "pygments_lexer": "ipython3",
   "version": "3.9.12"
  }
 },
 "nbformat": 4,
 "nbformat_minor": 5
}
